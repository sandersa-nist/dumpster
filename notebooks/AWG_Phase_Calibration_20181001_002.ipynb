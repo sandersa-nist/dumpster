{
 "cells": [
  {
   "cell_type": "markdown",
   "metadata": {},
   "source": [
    "# AWG Phase Calibration\n",
    "The goal of this experiment is to demonstrate phase calibration of a VNA on an arbitrary frequency grid using a arbitrary waveform generator. We do this by creating a phase reference signal on one port (port 4), and a series of sine waves on port 1. We then measure those sine waves with a calibrated oscilloscope.   "
   ]
  },
  {
   "cell_type": "markdown",
   "metadata": {},
   "source": [
    "## Imports"
   ]
  },
  {
   "cell_type": "code",
   "execution_count": 1,
   "metadata": {},
   "outputs": [
    {
     "name": "stdout",
     "output_type": "stream",
     "text": [
      "Importing pyMez, this should take roughly 30 seconds\n",
      "Importing Code.DataHandlers.GeneralModels\n",
      "It took 1.465 s to import Code.DataHandlers.GeneralModels\n",
      "Importing Code.DataHandlers.HTMLModels\n",
      "It took 0.314 s to import Code.DataHandlers.HTMLModels\n",
      "Importing Code.DataHandlers.NISTModels\n",
      "The module smithplot was not found,please put it on the python path\n",
      "It took 2.246 s to import Code.DataHandlers.NISTModels\n",
      "Importing Code.DataHandlers.TouchstoneModels\n",
      "The module smithplot was not found,please put it on the python path\n",
      "It took 0.031 s to import Code.DataHandlers.TouchstoneModels\n",
      "Importing Code.DataHandlers.XMLModels\n",
      "It took 0.268 s to import Code.DataHandlers.XMLModels\n",
      "Importing Code.DataHandlers.ZipModels\n",
      "It took 0.033 s to import Code.DataHandlers.ZipModels\n",
      "Importing Code.InstrumentControl.Experiments\n",
      "It took 5.411 s to import Code.InstrumentControl.Experiments\n",
      "Importing Code.InstrumentControl.Instruments\n",
      "It took 0.009 s to import Code.InstrumentControl.Instruments\n",
      "Importing Code.Utils.Names\n",
      "It took 0.008 s to import Code.Utils.Names\n",
      "It took 9.785 s to import all of the active modules\n"
     ]
    }
   ],
   "source": [
    "# import the pyMez packages default API\n",
    "from pyMez import *\n",
    "# import the Fitting module for Signal Generation and Fitting, note the namespace Code.Analysis.Fitting also works\n",
    "from pyMez.Code.Analysis.Fitting import *"
   ]
  },
  {
   "cell_type": "markdown",
   "metadata": {},
   "source": [
    "## Global Variable Declaration \n",
    "This experiment involves the PSG, VNA, AWG,power meter, Scope and 2 combs. The addresses of the instruments and the top level data directory are assumed to be fixed throughout the course of the experiment. "
   ]
  },
  {
   "cell_type": "code",
   "execution_count": 2,
   "metadata": {},
   "outputs": [],
   "source": [
    "# none of these instruments have xml instrument sheets, need to add them\n",
    "psg_address=\"GPIB0::19\"\n",
    "vna_address=\"GPIB0::16\"\n",
    "awg_address=\"GPIB0::10\"\n",
    "scope_address=\"GPIB0::7::INSTR\"\n",
    "pm_address=\"GPIB0::13\"\n",
    "# this is local to the computer taking the data, the data should be copied to Q:\\public\\Aric\\AWG_Phase_Calibration_20180927\n",
    "data_directory=r'C:\\Share\\AWG_Phase_Calibration_20181001'\n"
   ]
  },
  {
   "cell_type": "code",
   "execution_count": 250,
   "metadata": {},
   "outputs": [],
   "source": [
    "# Experimental variables\n",
    "\n",
    "# the psg frequency acts as the master clock\n",
    "psg_amplitude=12. #psg amplitude in dBm\n",
    "psg_frequency=10.*10.**9 # 10 GHz\n",
    "time_step=1./psg_frequency # time step for the awg\n",
    "\n",
    "# Calculation of the frequency grid of interest\n",
    "fundamental_frequency = 1.*10.**9 # Center of the passband or fundemental frequency in Hz\n",
    "number_tones = 11 # Number of tones in the modulation bandwidth including the fundamental, should be odd\n",
    "tone_spacing = 20*10**3 # Spacing of each tone. Combs can do 10 Mhz, 5 MHz, 2.5 MHz, 1.25 MHz and .625 MHz\n",
    "number_harmonics = 1 # Number of harmonics to use. The frequency grid will be n*(f-df), n*f, n*(f+df), etc\n",
    "# now calculate the frequency_list\n",
    "frequency_list=[]\n",
    "for harmonic in range(number_harmonics):\n",
    "    frequency_array=np.linspace((harmonic+1)*(fundamental_frequency-tone_spacing*(number_tones-1)/2),\n",
    "                                (harmonic+1)*(fundamental_frequency+tone_spacing*(number_tones-1)/2),number_tones)\n",
    "    frequency_list=frequency_list+frequency_array.tolist()\n",
    "# Select the phase for the multisine    \n",
    "#multisine_phase=\"zero\"\n",
    "multisine_phase=\"schroeder\"\n",
    "# select the number of envelopes\n",
    "number_envelopes=1.\n",
    "time_max=number_envelopes/tone_spacing\n",
    "number_time_points=int(round(time_max/time_step))\n",
    "time_shift=0.*time_step\n",
    "# Measurement Phase Reference Setup \n",
    "round_multisine_before_writing=True # Rounds the multisine to a desired bitdepth before writing to AWG\n",
    "bit_depth=8\n",
    "waveform_name=\"Calibration_Phase_Reference\" # name of the waveform to write to the \n",
    "bin_format=True # If the wave is in 16 bit bin format\n",
    "marker_1=True # If marker one is to be set\n",
    "marker_1_n_repeats=1 # the rep rate of the marker as a function of number of repeats per time sequence\n",
    "marker_2=False\n",
    "marker_2_n_repeats=1"
   ]
  },
  {
   "cell_type": "code",
   "execution_count": 255,
   "metadata": {},
   "outputs": [
    {
     "data": {
      "text/plain": [
       "[999900000.0,\n",
       " 999920000.0,\n",
       " 999940000.0,\n",
       " 999960000.0,\n",
       " 999980000.0,\n",
       " 1000000000.0,\n",
       " 1000020000.0,\n",
       " 1000040000.0,\n",
       " 1000060000.0,\n",
       " 1000080000.0,\n",
       " 1000100000.0]"
      ]
     },
     "execution_count": 255,
     "metadata": {},
     "output_type": "execute_result"
    }
   ],
   "source": [
    "frequency_list"
   ]
  },
  {
   "cell_type": "markdown",
   "metadata": {},
   "source": [
    "## Instrument Control Verification\n",
    "This verifies that the instruments are attached and responding properly"
   ]
  },
  {
   "cell_type": "code",
   "execution_count": 182,
   "metadata": {},
   "outputs": [
    {
     "name": "stdout",
     "output_type": "stream",
     "text": [
      "Agilent Technologies,86100C,MY47440684,A.08.00\n",
      " is at address GPIB0::7::INSTR\n",
      "Agilent Technologies,E4417A,SG55376002,A2.05.04\n",
      " is at address GPIB0::13::INSTR\n",
      "TEKTRONIX,AWG7122B,B020393,SCPI:99.0 FW:4.6.0.7 \n",
      " is at address GPIB0::10::INSTR\n",
      "Agilent Technologies, E8267D, US46470659, C.05.26\n",
      " is at address GPIB0::19::INSTR\n",
      "Agilent Technologies,N5245A,SG49151009,A.10.64.03\n",
      " is at address GPIB0::16::INSTR\n"
     ]
    }
   ],
   "source": [
    "whos_there()"
   ]
  },
  {
   "cell_type": "markdown",
   "metadata": {},
   "source": [
    "## PSG Setup\n",
    "The PSG is a vector signal generator manufactured by Agilent (model number 8267D). It is directly used as the clock for the AWG and inputs for IQ on the oscilloscope. It has to remain at the specified frequency for the duration of the experiment. In the first attempts we are using a 10 GHz sine wave with an amplitude of 12 dBm."
   ]
  },
  {
   "cell_type": "code",
   "execution_count": 8,
   "metadata": {},
   "outputs": [
    {
     "name": "stdout",
     "output_type": "stream",
     "text": [
      "The information sheet was not found defaulting to address\n",
      "The psg IDN is Agilent Technologies, E8267D, US46470659, C.05.26\n",
      "\n",
      "The psg is in the CW\n",
      " mode\n"
     ]
    }
   ],
   "source": [
    "# first intialize a class to talk with the psg\n",
    "psg=VisaInstrument(psg_address)\n",
    "# verify that it is properly connected\n",
    "print(\"The psg IDN is {0}\".format(psg.query(\"*IDN?\")))\n",
    "# Make sure the mode is CW\n",
    "print(\"The psg is in the {0} mode\".format(psg.query(\"FREQ:MODE?\")))"
   ]
  },
  {
   "cell_type": "code",
   "execution_count": 4,
   "metadata": {
    "collapsed": true
   },
   "outputs": [],
   "source": []
  },
  {
   "cell_type": "code",
   "execution_count": null,
   "metadata": {
    "collapsed": true
   },
   "outputs": [],
   "source": [
    "# Only run this if the PSG was not already setup using the front panel\n",
    "# This can be done in a single step if there is a saved xml state by using psg.load_state(path_to_xml_state)\n",
    "# set the psg mode\n",
    "psg.write(\"FREQ:MODE CW\")\n",
    "# set the amplitude\n",
    "psg.write(\"POW:AMPL {0}\".format(psg_amplitude))\n",
    "# set the frequency\n",
    "psg.write(\"FREQ:CW {0}\".format(psg_frequency))\n",
    "# turn the output on\n",
    "psg.write(\"OUTP 1\")"
   ]
  },
  {
   "cell_type": "code",
   "execution_count": 10,
   "metadata": {},
   "outputs": [
    {
     "data": {
      "text/plain": [
       "'C:\\\\Share\\\\AWG_Phase_Calibration_20181001\\\\psg_state_20181003_001.xml'"
      ]
     },
     "execution_count": 10,
     "metadata": {},
     "output_type": "execute_result"
    }
   ],
   "source": [
    "# Now get the state and save it\n",
    "# We can do this one at a time or all at once\n",
    "psg_state_name=auto_name(directory=data_directory,specific_descriptor=\"psg\",general_descriptor=\"state\",extension=\"xml\")\n",
    "psg_state_query_dictionary={\"FREQ:MODE\":\"FREQ:MODE?\",\"POW:AMPL\":\"POW:AMPL?\",\"FREQ:CW\":\"FREQ:CW?\",\"OUTP\":\"OUTP?\"}\n",
    "psg_state=psg.get_state(psg_state_query_dictionary)\n",
    "state_path=os.path.join(data_directory,psg_state_name)\n",
    "psg.save_state(state_path=state_path,state_dictionary=psg_state)"
   ]
  },
  {
   "cell_type": "markdown",
   "metadata": {},
   "source": [
    "## AWG setup\n",
    "Now that the PSG or master clock has been set up we must now setup the AWG (Tektronix Model AWG67122B). First we calculate the multi-sine used as a reference on port 4 of the VNA. It should contain all of the frequency components we expect to measure during the course of the experiment. The number of points required to faithfully represent this signal depends on the frequency grid and the master clock frequency set by the PSG. The length of the waveform chunk to be written is limited to 650 M Bytes where data written in Real format takes up 5 bytes. The fifth byte is the marker data."
   ]
  },
  {
   "cell_type": "code",
   "execution_count": 251,
   "metadata": {},
   "outputs": [],
   "source": [
    "# first create the multisine\n",
    "sine_function=FunctionalModel(parameters=[\"f\",\"phi\"],variables=[\"t\"],equation=\"cos(2*pi*f*t+phi)\")\n",
    "time_list=np.linspace(0.+time_shift,time_max+time_shift-time_step,number_time_points)\n",
    "\n",
    "# calculate the phases \n",
    "phase_list = [0. for i in range(len(frequency_list))]\n",
    "if re.search(\"sch\",multisine_phase,re.IGNORECASE):\n",
    "    phase_list=[]\n",
    "    for frequency_index,frequency in enumerate(frequency_list):\n",
    "        k=(frequency_index+1)%number_tones\n",
    "        schroeder_phase=-k*(k-1)*np.pi/number_tones\n",
    "        phase_list.append(schroeder_phase)\n",
    "# initialize multisine to a set of zeros\n",
    "multisine=np.array([0 for i in range(number_time_points)])\n",
    "# add each component\n",
    "for frequency_index,frequency in enumerate(frequency_list):\n",
    "    sine_function.set_parameters({\"f\":frequency,\"phi\":phase_list[frequency_index]})\n",
    "    multisine_component=sine_function(time_list)\n",
    "    multisine=multisine+multisine_component\n",
    "    \n",
    "# substract the mean\n",
    "# multisine=multisine-np.mean(multisine)\n",
    "# normalize the multisine\n",
    "# multisine=1/max(multisine)*multisine\n",
    "\n",
    "# round the multisine to the nearest bitdepth before writing\n",
    "if round_multisine_before_writing:\n",
    "    discrete_steps=np.linspace(min(multisine),max(multisine),2**bit_depth)\n",
    "    rounded_multisine=[]\n",
    "    int_multisine=[]\n",
    "    for value in multisine:\n",
    "        difference_array=abs(discrete_steps-value)\n",
    "        minimum_location=np.argmin(difference_array)\n",
    "        rounded_multisine.append(discrete_steps[minimum_location])\n",
    "        int_multisine.append(minimum_location)\n",
    "    if bin_format:\n",
    "        multisine=np.array(int_multisine,dtype=np.uint16)\n",
    "        # Shift, now to add the marker add + 2**14 or +2**15 at the desired location\n",
    "        multisine=multisine*2**6\n",
    "    else:\n",
    "        multisine=rounded_multisine\n",
    "        \n",
    "# now we add the marker. \n",
    "if marker_1:\n",
    "    \n",
    "    distance=int(np.floor(float(len(multisine))/float(marker_1_n_repeats)))\n",
    "    for i in range(marker_1_n_repeats):\n",
    "        try:\n",
    "            multisine[i*distance]=multisine[i*distance]+2**14\n",
    "        except:\n",
    "            pass\n",
    "        "
   ]
  },
  {
   "cell_type": "code",
   "execution_count": 86,
   "metadata": {},
   "outputs": [
    {
     "data": {
      "text/plain": [
       "4480"
      ]
     },
     "execution_count": 86,
     "metadata": {},
     "output_type": "execute_result"
    }
   ],
   "source": [
    "multisine[0]"
   ]
  },
  {
   "cell_type": "code",
   "execution_count": 79,
   "metadata": {},
   "outputs": [
    {
     "name": "stdout",
     "output_type": "stream",
     "text": [
      "Length of discrete steps: 256\n",
      "Max value of int_multisine: 255\n"
     ]
    }
   ],
   "source": [
    "print(\"Length of discrete steps: {0}\".format(len(discrete_steps)))\n",
    "print(\"Max value of int_multisine: {0}\".format(max(int_multisine)))"
   ]
  },
  {
   "cell_type": "markdown",
   "metadata": {},
   "source": [
    "## Verify the Multisine before writing to the AWG"
   ]
  },
  {
   "cell_type": "code",
   "execution_count": 252,
   "metadata": {},
   "outputs": [
    {
     "name": "stdout",
     "output_type": "stream",
     "text": [
      "Mean Value : 8160.04096\n",
      "Length of Waveform: 500000\n"
     ]
    },
    {
     "data": {
      "image/png": "[encoded data removed]",
      "text/plain": [
       "<Figure size 432x288 with 1 Axes>"
      ]
     },
     "metadata": {},
     "output_type": "display_data"
    }
   ],
   "source": [
    "# Time Domain Plot\n",
    "plt.plot(time_list,multisine,label=\"Multisine\")\n",
    "plt.xlabel(\"Time (s)\")\n",
    "plt.ylabel(\"Amplitude (arb)\")\n",
    "plt.title(\"Reference Multisine\")\n",
    "print(\"Mean Value : {0}\".format(np.mean(multisine)))\n",
    "print(\"Length of Waveform: {0}\".format(len(multisine)))\n",
    "plt.show()"
   ]
  },
  {
   "cell_type": "code",
   "execution_count": 257,
   "metadata": {},
   "outputs": [
    {
     "data": {
      "image/png": "[encoded data removed]",
      "text/plain": [
       "<Figure size 432x288 with 1 Axes>"
      ]
     },
     "metadata": {},
     "output_type": "display_data"
    }
   ],
   "source": [
    "# Power Spectrum\n",
    "plt.close()\n",
    "multisine_fft=np.fft.fft(multisine)\n",
    "fft_frequency_list=np.linspace(0,1/(2*time_step),number_time_points//2)\n",
    "plt.loglog(fft_frequency_list,abs(multisine_fft[0:number_time_points//2]))\n",
    "plt.xlabel(\"Frequency\")\n",
    "plt.ylabel(\"Intensity (arb)\")\n",
    "plt.title(\"Reference Multisine FFT\")\n",
    "#plt.xlim([min(frequency_list)-2*tone_spacing,max(frequency_list)+2*tone_spacing])\n",
    "plt.show()"
   ]
  },
  {
   "cell_type": "code",
   "execution_count": 258,
   "metadata": {},
   "outputs": [
    {
     "data": {
      "image/png": "[encoded data removed]",
      "text/plain": [
       "<Figure size 432x288 with 1 Axes>"
      ]
     },
     "metadata": {},
     "output_type": "display_data"
    }
   ],
   "source": [
    "# Power Spectrum Zoomed In \n",
    "plt.close()\n",
    "multisine_fft=np.fft.fft(multisine)\n",
    "fft_frequency_list=np.linspace(0,1/(2*time_step),number_time_points//2)\n",
    "plt.loglog(fft_frequency_list,abs(multisine_fft[0:number_time_points//2]))\n",
    "plt.xlabel(\"Frequency\")\n",
    "plt.ylabel(\"Intensity (arb)\")\n",
    "plt.title(\"Reference Multisine FFT\")\n",
    "plt.xlim([min(frequency_list)-2*tone_spacing,max(frequency_list)+2*tone_spacing])\n",
    "plt.show()"
   ]
  },
  {
   "cell_type": "markdown",
   "metadata": {},
   "source": [
    "## Write Measurement Phase Reference to the AWG"
   ]
  },
  {
   "cell_type": "code",
   "execution_count": 18,
   "metadata": {},
   "outputs": [
    {
     "name": "stdout",
     "output_type": "stream",
     "text": [
      "The information sheet was not found defaulting to address\n"
     ]
    },
    {
     "data": {
      "text/plain": [
       "u'TEKTRONIX,AWG7122B,B020393,SCPI:99.0 FW:4.6.0.7 \\n'"
      ]
     },
     "execution_count": 18,
     "metadata": {},
     "output_type": "execute_result"
    }
   ],
   "source": [
    "# create a control class for the awg\n",
    "awg=VisaInstrument(awg_address)\n",
    "# verify it is connected and working properly\n",
    "awg.query(\"*IDN?\")"
   ]
  },
  {
   "cell_type": "markdown",
   "metadata": {},
   "source": [
    "## Write to Channel 1 and Channel 2 of the AWG\n",
    "The waveform on Channel 1 and Channel 2 have to be the same length before running the AWG, so we define them both as the measurement reference waveform at first"
   ]
  },
  {
   "cell_type": "code",
   "execution_count": 254,
   "metadata": {},
   "outputs": [],
   "source": [
    "# I am guessing that this has the possibility of kiling the oscope trigger\n",
    "if bin_format:\n",
    "    # turn AWG's output 1 & 2 OFF\n",
    "    awg.write(':OUTPUT1:STATE OFF')\n",
    "    awg.write(':OUTPUT2:STATE OFF')\n",
    "    # wait...\n",
    "    time.sleep(0.1)\n",
    "    # UNRUN state\n",
    "    awg.write('AWGCONTROL:STOP')\n",
    "    # wait...\n",
    "    time.sleep(0.5)\n",
    "\n",
    "    # delete any older waveform with the same name\n",
    "    awg.write('WLISt:WAVeform:DELete \"{0}\"'.format(waveform_name))\n",
    "    time.sleep(0.05)\n",
    "\n",
    "    # create new waveform\n",
    "    awg.write('WLISt:WAVeform:NEW \"{0}\", {1}, INT'.format(waveform_name,len(multisine)))\n",
    "    # download data\n",
    "    awg.resource.write_binary_values('WLISt:WAVeform:DATA \"{0}\",'.format(waveform_name), multisine, datatype='H', is_big_endian=False)\n",
    "    time.sleep(0.1)\n",
    "    # assign new waveform to channel 1 & 2\n",
    "    awg.write('SOURce1:WAVeform \"{0}\"'.format(waveform_name))\n",
    "    awg.write('SOURce2:WAVeform \"{0}\"'.format(waveform_name))\n",
    "\n",
    "    # check for errors\n",
    "    error_str = awg.query('SYSTEM:ERROR:NEXT?')\n",
    "    # wait...\n",
    "    time.sleep(.1)\n",
    "    # AWG on RUN state\n",
    "    awg.write('AWGCONTROL:RUN')\n",
    "    # wait...\n",
    "    time.sleep(0.5)\n",
    "    # check if there is any errors on AWG's buffer\n",
    "    error_str = awg.query('SYSTEM:ERROR:NEXT?')\n",
    "    if error_str == '0,\"No error\"\\n':\n",
    "        # turn AWG's output 1 OFF\n",
    "        awg.write(':OUTPUT1:STATE ON')\n",
    "        awg.write(':OUTPUT2:STATE ON')\n"
   ]
  },
  {
   "cell_type": "code",
   "execution_count": 36,
   "metadata": {},
   "outputs": [
    {
     "data": {
      "text/plain": [
       "(19L, <StatusCode.success: 0>)"
      ]
     },
     "execution_count": 36,
     "metadata": {},
     "output_type": "execute_result"
    }
   ],
   "source": [
    "\n",
    "awg.write(':OUTPUT1:STATE ON')\n",
    "awg.write(':OUTPUT2:STATE ON')"
   ]
  },
  {
   "cell_type": "code",
   "execution_count": 44,
   "metadata": {},
   "outputs": [
    {
     "data": {
      "text/plain": [
       "u'0,\"No error\"\\n'"
      ]
     },
     "execution_count": 44,
     "metadata": {},
     "output_type": "execute_result"
    }
   ],
   "source": [
    "awg.query('SYSTEM:ERROR:NEXT?')"
   ]
  },
  {
   "cell_type": "markdown",
   "metadata": {},
   "source": [
    "## Setting up the VNA"
   ]
  },
  {
   "cell_type": "code",
   "execution_count": 279,
   "metadata": {},
   "outputs": [
    {
     "name": "stdout",
     "output_type": "stream",
     "text": [
      "The information sheet was not found defaulting to address\n"
     ]
    }
   ],
   "source": [
    "vna=VNA(vna_address)"
   ]
  },
  {
   "cell_type": "code",
   "execution_count": null,
   "metadata": {},
   "outputs": [],
   "source": [
    "vna.add_trace(\"a1_a4\",\"r1r4\")"
   ]
  },
  {
   "cell_type": "markdown",
   "metadata": {},
   "source": [
    "## Setting up the Oscilloscope"
   ]
  },
  {
   "cell_type": "code",
   "execution_count": 184,
   "metadata": {},
   "outputs": [
    {
     "name": "stdout",
     "output_type": "stream",
     "text": [
      "The information sheet was not found defaulting to address\n"
     ]
    }
   ],
   "source": [
    "scope=HighSpeedOscope(scope_address)"
   ]
  },
  {
   "cell_type": "code",
   "execution_count": 185,
   "metadata": {},
   "outputs": [],
   "source": [
    "scope.get_trigger_source()"
   ]
  },
  {
   "cell_type": "code",
   "execution_count": 194,
   "metadata": {},
   "outputs": [
    {
     "data": {
      "text/plain": [
       "u'FPAN\\n'"
      ]
     },
     "execution_count": 194,
     "metadata": {},
     "output_type": "execute_result"
    }
   ],
   "source": [
    "scope.query(\"TRIG:SOUR?\")"
   ]
  },
  {
   "cell_type": "code",
   "execution_count": 193,
   "metadata": {},
   "outputs": [],
   "source": [
    "scope.set_trigger_source(source=\"FPAN\")"
   ]
  },
  {
   "cell_type": "code",
   "execution_count": 262,
   "metadata": {},
   "outputs": [],
   "source": [
    "scope.set_number_points(100)\n",
    "wave=scope.measure_waves(number_frames=1000)"
   ]
  },
  {
   "cell_type": "code",
   "execution_count": 263,
   "metadata": {},
   "outputs": [
    {
     "data": {
      "image/png": "[encoded data removed]",
      "text/plain": [
       "<Figure size 432x288 with 1 Axes>"
      ]
     },
     "metadata": {},
     "output_type": "display_data"
    }
   ],
   "source": [
    "plt.plot(wave[\"Time\"],wave[\"CHAN2\"])\n",
    "plt.show()"
   ]
  },
  {
   "cell_type": "code",
   "execution_count": 264,
   "metadata": {},
   "outputs": [
    {
     "data": {
      "image/png": "[encoded data removed]",
      "text/plain": [
       "<Figure size 432x288 with 1 Axes>"
      ]
     },
     "metadata": {},
     "output_type": "display_data"
    }
   ],
   "source": [
    "wave_fft=np.fft.fft(wave[\"CHAN2\"])\n",
    "delta_time=(wave[\"Time\"][1]-wave[\"Time\"][0])*10**-9\n",
    "fft_frequency_list=np.linspace(0,1./(2.*delta_time),len(wave[\"Time\"])//2)\n",
    "plt.loglog(fft_frequency_list,abs(wave_fft[0:len(wave[\"Time\"])//2]))\n",
    "plt.show();"
   ]
  },
  {
   "cell_type": "code",
   "execution_count": 274,
   "metadata": {},
   "outputs": [
    {
     "data": {
      "image/png": "[encoded data removed]",
      "text/plain": [
       "<Figure size 432x288 with 1 Axes>"
      ]
     },
     "metadata": {},
     "output_type": "display_data"
    }
   ],
   "source": [
    "wave_fft=np.fft.fft(wave[\"CHAN2\"])\n",
    "delta_time=(wave[\"Time\"][1]-wave[\"Time\"][0])*10**-9\n",
    "fft_frequency_list=np.linspace(0,1./(2.*delta_time),len(wave[\"Time\"])//2)\n",
    "plt.loglog(fft_frequency_list,abs(wave_fft[0:len(wave[\"Time\"])//2]))\n",
    "plt.xlim([9.8*10**8,.12*10**10])\n",
    "plt.show();"
   ]
  },
  {
   "cell_type": "code",
   "execution_count": 265,
   "metadata": {},
   "outputs": [
    {
     "data": {
      "image/png": "[encoded data removed]",
      "text/plain": [
       "<Figure size 432x288 with 1 Axes>"
      ]
     },
     "metadata": {},
     "output_type": "display_data"
    }
   ],
   "source": [
    "wave_fft=np.fft.fft(wave[\"CHAN3\"])\n",
    "delta_time=(wave[\"Time\"][1]-wave[\"Time\"][0])*10**-9\n",
    "fft_frequency_list=np.linspace(0,1./(2.*delta_time),len(wave[\"Time\"])//2)\n",
    "plt.loglog(fft_frequency_list,abs(wave_fft[0:len(wave[\"Time\"])//2]))\n",
    "plt.show();"
   ]
  },
  {
   "cell_type": "code",
   "execution_count": 278,
   "metadata": {},
   "outputs": [
    {
     "data": {
      "image/png": "[encoded data removed]",
      "text/plain": [
       "<Figure size 432x288 with 1 Axes>"
      ]
     },
     "metadata": {},
     "output_type": "display_data"
    }
   ],
   "source": [
    "wave_fft=np.fft.fft(wave[\"CHAN3\"])\n",
    "delta_time=(wave[\"Time\"][1]-wave[\"Time\"][0])*10**-9\n",
    "fft_frequency_list=np.linspace(0,1./(2.*delta_time),len(wave[\"Time\"])//2)\n",
    "plt.loglog(fft_frequency_list,abs(wave_fft[0:len(wave[\"Time\"])//2]))\n",
    "plt.xlim([9.9*10**9,1.01*10**10])\n",
    "plt.show();"
   ]
  },
  {
   "cell_type": "code",
   "execution_count": null,
   "metadata": {},
   "outputs": [],
   "source": []
  }
 ],
 "metadata": {
  "kernelspec": {
   "display_name": "Python 2",
   "language": "python",
   "name": "python2"
  },
  "language_info": {
   "codemirror_mode": {
    "name": "ipython",
    "version": 2
   },
   "file_extension": ".py",
   "mimetype": "text/x-python",
   "name": "python",
   "nbconvert_exporter": "python",
   "pygments_lexer": "ipython2",
   "version": "2.7.15"
  }
 },
 "nbformat": 4,
 "nbformat_minor": 2
}
